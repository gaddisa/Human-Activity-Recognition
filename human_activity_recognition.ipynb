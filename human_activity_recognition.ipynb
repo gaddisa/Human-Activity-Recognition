{
 "cells": [
  {
   "cell_type": "markdown",
   "metadata": {},
   "source": [
    "# Human Activity Recognition Using Custom Deep Learning Model\n",
    "\n",
    "**Date:** Sun Apr 15 16:45:07 2019  \n",
    "**Author:** Gaddisa Olani\n",
    "\n",
    "## Instructions\n",
    "\n",
    "Select all and run it. You will get the answer to all the questions. By default, it is set to use the Adam Optimizer, but you can change the `optimization_option` variable to either 1 or 2, which stands for SGD and Adagrad optimizer, respectively.\n",
    "\n",
    "---\n",
    "\n",
    "**NOTICE:**  \n",
    "I IMPLEMENTED ALL THE OPTIMIZATION METHODS, NETWORK DESIGN, ACTIVATION FUNCTIONS, AND TRAINING IN PURE PYTHON FROM SCRATCH.\n",
    "\n",
    "THANK YOU.\n",
    "\n",
    "---\n"
   ]
  },
  {
   "cell_type": "markdown",
   "metadata": {},
   "source": [
    "# Imported Libraries\n",
    "\n",
    "- `numpy` as `np`\n",
    "- `pandas` as `pd`\n",
    "- `tqdm.trange` (added to show the progress of learning at each iteration)\n",
    "- `matplotlib.pyplot` as `plt`\n",
    "- `sklearn.manifold.TSNE`\n",
    "- `sklearn.decomposition.PCA`\n",
    "- `sklearn.model_selection.GridSearchCV`\n",
    "- `sklearn.model_selection.train_test_split`\n",
    "- `sklearn.metrics.classification_report`\n",
    "- `sklearn.metrics.accuracy_score`\n"
   ]
  },
  {
   "cell_type": "code",
   "execution_count": 1,
   "metadata": {},
   "outputs": [],
   "source": [
    "import numpy as np\n",
    "import pandas as pd\n",
    "from tqdm import trange #added to show the progress of learning at each iteration\n",
    "import matplotlib.pyplot as plt \n",
    "from sklearn.manifold import TSNE\n",
    "from sklearn.decomposition import PCA\n",
    "from sklearn.model_selection import GridSearchCV\n",
    "from sklearn.model_selection import train_test_split\n",
    "from sklearn.metrics import classification_report, accuracy_score"
   ]
  },
  {
   "cell_type": "markdown",
   "metadata": {},
   "source": [
    "## Custom Neural Network Structure\n",
    "\n",
    "This custom neural network is implemented from scratch in Python, without relying on any built-in libraries. It consists of several classes representing different layers and operations commonly used in neural networks.\n",
    "\n",
    "### Key Components:\n",
    "\n",
    "- **Layer Class**: Base class for all types of layers. Includes methods for initialization and forward pass.\n",
    "\n",
    "- **Dense Class**: Represents a fully connected layer. Includes methods for initialization, forward pass, and backward pass (backpropagation).\n",
    "\n",
    "- **ReLU Class**: Represents the Rectified Linear Unit activation function.\n",
    "\n",
    "- **AdamOptimizer Class**: Implements the Adam optimization algorithm.\n",
    "\n",
    "### Explanation:\n",
    "\n",
    "- **Initialization**: Weights are initialized with small random numbers, usually drawn from a normal distribution. Biases are often initialized to zeros.\n",
    "\n",
    "- **Forward Pass**: Propagates input data through the network layers. Each layer multiplies input by weights, adds biases, and applies activation functions.\n",
    "\n",
    "- **Backpropagation**: Computes gradients of the loss function with respect to weights and biases. Updates parameters using optimization algorithms like Adam, SGD, or Adagrad.\n",
    "\n",
    "- **Activation Functions**: ReLU is used for introducing non-linearity.\n",
    "\n",
    "- **Optimization Algorithm**: Adam optimizer adapts learning rates for each parameter during training, leading to faster convergence and better performance.\n",
    "\n",
    "### Customization and Usage:\n",
    "\n",
    "Users can adjust the network architecture, number of layers, units per layer, activation functions, and optimization algorithms according to their requirements.\n",
    "\n",
    "This custom neural network structure provides a basic framework for building and training neural networks from scratch, facilitating a deeper understanding of deep learning principles.\n"
   ]
  },
  {
   "cell_type": "code",
   "execution_count": 2,
   "metadata": {},
   "outputs": [],
   "source": [
    "class Layer:\n",
    "    def __init__(self):\n",
    "        \"\"\"Here you can initialize layer parameters (if any) and auxiliary stuff.\"\"\"\n",
    "        # A dummy layer does nothing\n",
    "        self.weights = np.zeros(shape=(input.shape[1], 10))\n",
    "        self.bias = np.zeros(shape=(10,))\n",
    "        pass\n",
    "    \n",
    "    def forward_pass(self, input):\n",
    "        \"\"\"\n",
    "        Takes input data of shape [batch, input_units], returns output data [batch, 10]\n",
    "        \"\"\"\n",
    "        output = np.matmul(input, self.weights) + self.bias\n",
    "        return output\n",
    "\n",
    "class Dense(Layer):\n",
    "    def __init__(self, input_units, output_units, learning_rate=0.1):\n",
    "        self.learning_rate = learning_rate\n",
    "        \n",
    "        # initialize weights with small random numbers. I use normal initialization\n",
    "        self.weights = np.random.randn(input_units, output_units)*0.01\n",
    "        self.biases = np.zeros(output_units)\n",
    "        \n",
    "    def forward_pass(self,input):\n",
    "        return np.matmul(input, self.weights) + self.biases\n",
    "      \n",
    "    def backward(self,input,grad_output):\n",
    "        # use a chain rule to calculate the weight and bias \n",
    "        grad_input = np.dot(grad_output,np.transpose(self.weights))\n",
    "\n",
    "        # compute gradient w.r.t. weights and biases\n",
    "        grad_weights = np.transpose(np.dot(np.transpose(grad_output),input))\n",
    "        grad_biases = np.sum(grad_output, axis = 0)\n",
    "        \n",
    "        \"\"\"\n",
    "        Optimzation Using Adam\n",
    "        call our adam optimizer class\n",
    "        \"\"\"\n",
    "        if optimization_option==0:\n",
    "            #adam optimizer\n",
    "            adam_optimizer_weights = AdamOptimizer(self.weights, alpha=0.01)\n",
    "            self.weights = adam_optimizer_weights.backward_pass(grad_weights)\n",
    "        \n",
    "        \n",
    "            adam_optimizer_biases = AdamOptimizer(self.biases, alpha=0.01)\n",
    "            self.biases = adam_optimizer_biases.backward_pass(grad_biases)\n",
    "       \n",
    "        elif optimization_option==1:\n",
    "            #SGD optimizer\n",
    "            self.weights=self.weights-self.learning_rate * grad_weights\n",
    "            self.biases = self.biases - self.learning_rate * grad_biases\n",
    "            \n",
    "        else:\n",
    "            #which means adagrad implementation\n",
    "            weight_cache= np.square(grad_weights)\n",
    "            self.weights=self.weights - 0.01 * grad_weights / (10**-6 + np.sqrt(weight_cache))\n",
    "        \n",
    "            bias_cache= np.square(grad_biases)\n",
    "            self.biases=self.biases - 0.01 * grad_biases / (10**-6 + np.sqrt(bias_cache))\n",
    "            \n",
    "            \n",
    "        return grad_input\n",
    "\n",
    "class ReLU(Layer):\n",
    "    def __init__(self):\n",
    "        \"\"\"ReLU layer simply applies elementwise rectified linear unit to all inputs\"\"\"\n",
    "        pass\n",
    "    \n",
    "    def forward_pass(self, input):\n",
    "        \"\"\"Apply elementwise ReLU to [batch, input_units] matrix\"\"\"\n",
    "        return np.maximum(0,input)\n",
    "\n",
    "    def backward(self, input, grad_output):\n",
    "        \"\"\"Compute gradientof this activation\"\"\"\n",
    "        relu_grad = input > 0\n",
    "        return grad_output*relu_grad \n",
    "\n",
    "#implement AdamOptimizer algorith, I initialize those parameter \n",
    "#according to the best setting defined by most data scientists \n",
    "class AdamOptimizer:\n",
    "    def __init__(self, weights, alpha=0.001, beta1=0.9, beta2=0.999, epsilon=1e-8):\n",
    "        self.alpha = alpha\n",
    "        self.beta1 = beta1\n",
    "        self.beta2 = beta2\n",
    "        self.epsilon = epsilon\n",
    "        self.m = 0\n",
    "        self.v = 0\n",
    "        self.t = 0\n",
    "        self.theta = weights\n",
    "        \n",
    "    def backward_pass(self, gradient):\n",
    "        self.t = self.t + 1\n",
    "        self.m = self.beta1*self.m + (1 - self.beta1)*gradient\n",
    "        self.v = self.beta2*self.v + (1 - self.beta2)*(gradient**2)\n",
    "        m_hat = self.m/(1 - self.beta1**self.t)\n",
    "        v_hat = self.v/(1 - self.beta2**self.t)\n",
    "        \n",
    "        #self.theta = self.theta - self.alpha*(m_hat/(np.sqrt(v_hat) - self.epsilon))\n",
    "\n",
    "        self.theta = self.theta - self.alpha*(m_hat/(np.sqrt(v_hat) - self.epsilon))\n",
    "        return self.theta\n",
    "\n",
    "\n",
    "def crossentropy_loss_calculation(last_layer_act_value,reference_answers):\n",
    "    \"\"\"\n",
    "    Calculate the crossentropy loss for each minibatches\n",
    "    \n",
    "    using the simplified loss formula (to avoid division) of minibatch cross entropy loss\n",
    "    \n",
    "    \"\"\"\n",
    "    a = last_layer_act_value[np.arange(len(last_layer_act_value)),reference_answers]\n",
    "    \n",
    "    cross_entropy = - a + np.log(np.sum(np.exp(last_layer_act_value),axis=-1))\n",
    "    \n",
    "    return cross_entropy\n",
    "\n",
    "def gradientof_crossentropy_loss_calculation(last_layer_act_value,reference_answers):\n",
    "    \"\"\"Compute crossentropy gradient from last_layer_act_value\"\"\"\n",
    "    \n",
    "    a = np.zeros_like(last_layer_act_value)\n",
    "    a[np.arange(len(last_layer_act_value)),reference_answers] = 1\n",
    "    \n",
    "    softmax = np.exp(last_layer_act_value) / np.exp(last_layer_act_value).sum(axis=-1,keepdims=True)\n",
    "    \n",
    "    return (- a + softmax) / last_layer_act_value.shape[0]\n",
    "\n",
    "\n",
    "#after the grid search we found the following network structure\n",
    "def create_the_network(hidden_layers=1,hidden_unit=100):\n",
    "    #input layer\n",
    "    network.append(Dense(X_train.shape[1],hidden_unit))\n",
    "    network.append(ReLU())\n",
    "    \n",
    "    #add n hidden layers\n",
    "    for i in range(hidden_layers):\n",
    "        network.append(Dense(hidden_unit,hidden_unit))\n",
    "        network.append(ReLU())\n",
    "    \n",
    "    #outputlayer\n",
    "    network.append(Dense(hidden_unit,6))\n",
    "\n",
    "\n",
    "def forward_pass(network, X):\n",
    "    \"\"\"\n",
    "    Compute activations of all network layers by applying them sequentially.\n",
    "    Return a list of activations for each layer. \n",
    "    using a python list I store the gradient of all layers in the form\n",
    "    of table to avoid repetitive computation during backpropagation\n",
    "    \"\"\"\n",
    "    activations = []\n",
    "    #input = X\n",
    "    for i in range(len(network)):\n",
    "        activations.append(network[i].forward_pass(X))\n",
    "        X = network[i].forward_pass(X)\n",
    "        \n",
    "    assert len(activations) == len(network)\n",
    "    #return the activation of each layer\n",
    "    return activations"
   ]
  },
  {
   "cell_type": "markdown",
   "metadata": {},
   "source": [
    "### Training the Network\n",
    "\n",
    "Train the network on a given batch of input data `X` and labels `y` using the following steps:\n",
    "\n",
    "1. **Forward Pass**: Run `forward_pass` to compute activations for all layers in the network.\n",
    "\n",
    "2. **Backpropagation**: Execute `layer.backward` starting from the last layer to the first layer. After calling `backward` for all layers, all Dense layers have made one gradient step.\n",
    "\n",
    "By following these steps, the network learns from the input data and updates its parameters to minimize the loss function.\n"
   ]
  },
  {
   "cell_type": "code",
   "execution_count": 4,
   "metadata": {},
   "outputs": [],
   "source": [
    "\n",
    "def train(network,X,y):\n",
    "    \"\"\"\n",
    "    Train network on a given batch of X and y.\n",
    "    Step 1:  run forward_pass to get all layer activations.\n",
    "    Step 2:  Then you can run layer.backward going from last to first layer.\n",
    "    After you called backward for all layers, all Dense layers have already made one gradient step.\n",
    "    \"\"\"\n",
    "    \n",
    "    # Step 1: Get the layer activations\n",
    "    layer_activations = forward_pass(network,X)\n",
    "    \n",
    "    last_layer_act_value = layer_activations[-1]\n",
    "    \n",
    "    # Compute the loss and the initial gradient\n",
    "    loss = crossentropy_loss_calculation(last_layer_act_value,y)\n",
    "    \n",
    "    loss_of_the_gradient = gradientof_crossentropy_loss_calculation(last_layer_act_value,y)\n",
    "    \n",
    "    \"\"\"\n",
    "    The lenght of my network is five: \n",
    "        Input layer (dense)\n",
    "        Activation Layer (Relu)\n",
    "        Dense Layer()\n",
    "        Activation Layer (Relu)\n",
    "        Output Dense Layer(100,6)\n",
    "\n",
    "    \"\"\"\n",
    "    \n",
    "    for i in range(1, len(network)):\n",
    "        loss_of_the_gradient = network[len(network) - i].backward(layer_activations[len(network) - i - 1], loss_of_the_gradient)\n",
    "\n",
    "    return np.mean(loss)\n",
    "\n",
    "\"\"\"\n",
    " #######################################################################################################################\n",
    " ## tO FIND THE OPTIMAL PARAMETERS GRIDSEARCH IMPLEMENTATION OF sklearn.model_selection WAS USED    ####################\n",
    " ##     I RUN IT ONE TIME BECOUSE IT TAKES TO MUCH TIME ON MY PC TO PROVIDE THE RESULT              ####################\n",
    " ##     THE FINAL OUTPUT OF RUNNING A GRID SEARCH WAS DISCUSSED IN MY REPORT                        ####################\n",
    " #######################################################################################################################\n",
    "\n",
    "\"\"\"\n",
    "\n",
    "def do_the_GridSeach(model,X,y):\n",
    "    # define the grid search parameters\n",
    "    hidden_layers=[1,2,3,4,5]\n",
    "    hidden_unit=[10,50,100,150,200]\n",
    "    learn_rate = [0.001, 0.01, 0.1, 0.2, 0.3]\n",
    "    batch_size = [32, 64, 128, 256, 512,1024]\n",
    "    epochs = [10, 50, 100,140,200,500,1000]\n",
    "    param_grid = dict(hidden_layers=hidden_layers,hidden_unit=hidden_unit,learn_rate=learn_rate,batch_size=batch_size, epochs=epochs)\n",
    "    grid = GridSearchCV(estimator=model, param_grid=param_grid, n_jobs=-1)\n",
    "    grid_result = grid.fit(X, y)\n",
    "    # summarize results\n",
    "    print(\"Best: %f using %s\" % (grid_result.best_score_, grid_result.best_params_))\n",
    "    means = grid_result.cv_results_['mean_test_score']\n",
    "    stds = grid_result.cv_results_['std_test_score']\n",
    "    params = grid_result.cv_results_['params']\n",
    "    for mean, stdev, param in zip(means, stds, params):\n",
    "        print(\"%f (%f) with: %r\" % (mean, stdev, param))\n",
    "#create minibatch size \n",
    "def create_minibatches(inputs, targets, batchsize, shuffle=True):\n",
    "    assert len(inputs) == len(targets)\n",
    "    if shuffle:\n",
    "        indices = np.random.permutation(len(inputs))\n",
    "    for start_idx in trange(0, len(inputs) - batchsize + 1, batchsize):\n",
    "        if shuffle:\n",
    "            excerpt = indices[start_idx:start_idx + batchsize]\n",
    "        else:\n",
    "            excerpt = slice(start_idx, start_idx + batchsize)\n",
    "        yield inputs[excerpt], targets[excerpt]\n",
    "        \n",
    "#give unseen dataset_ test set perform a  classification based on the learned weights and bias term\n",
    "def prediction_on_test_dataset(X_test):\n",
    "    last_layer_act_value = forward_pass(network,X)[-1]\n",
    "    predicted_values=last_layer_act_value.argmax(axis=-1)\n",
    "    \n",
    "    #since we already subtracted one from the class label, know we add one to the final output\n",
    "    predicted_values+=1\n",
    "    #save the prediction resut to a text file by a name ....\n",
    "    pd.DataFrame(predicted_values).to_csv(\"106062867_Ac.csv\")\n",
    "\n",
    "def precision_recall_f1(X_val,y_val):\n",
    "    print(\"#####################################################################\")\n",
    "    print(\"Answer for question 1) ii\")\n",
    "    predicted_values,x=predict(network,X_val)\n",
    "    target_names = ['class dws', 'class ups', 'class sit','class std','class wlk','class jog']\n",
    "    print(classification_report(y_val, predicted_values, digits=4,target_names=target_names))\n",
    "\n",
    "#prediction a training and validation phase\n",
    "def predict(network,X):\n",
    "    \"\"\"\n",
    "    Compute network predictions.\n",
    "    \"\"\"\n",
    "    last_layer_act_value = forward_pass(network,X)[-1]\n",
    "    \n",
    "    current_loss=last_layer_act_value\n",
    "    \n",
    "    #pass two parameters one the classification result and also the loss value\n",
    "    \n",
    "    return last_layer_act_value.argmax(axis=-1),current_loss\n",
    "\n",
    "\n",
    "#everything that we need to train our network is packed her\n",
    "def begin_the_training():\n",
    "    number_of_epochs=140\n",
    "    for epoch in range(number_of_epochs):\n",
    "        for x_batch,y_batch in create_minibatches(X_train,y_train,batchsize=batch_size,shuffle=True):\n",
    "            train(network,x_batch,y_batch)\n",
    "        \n",
    "        \n",
    "        \"\"\"\n",
    "        Record the training accuracy, validation accuracy\n",
    "        Record the training loss and validation loss\n",
    "        Finally plot the curve at the end of the epochs\n",
    "        \"\"\"\n",
    "        training_predicted_value,training_loss=predict(network,X_train)\n",
    "        train_accuracy_log.append(np.mean(training_predicted_value==y_train))\n",
    "        train_loss.append(np.mean(crossentropy_loss_calculation(training_loss,y_train)))\n",
    "        \n",
    "        val_predicted_value,validation_loss=predict(network,X_val)\n",
    "        val_accuracy_log.append(np.mean(val_predicted_value==y_val))\n",
    "        val_loss.append(np.mean(crossentropy_loss_calculation(validation_loss,y_val)))\n",
    "        \n",
    "        print(\"Epoch\",epoch)\n",
    "        print(\"Train accuracy:\",train_accuracy_log[-1])\n",
    "        print(\"Val accuracy:\",val_accuracy_log[-1])\n",
    "   \n",
    "   \n",
    "    #plot the training  accuracy vs validation accuracy\n",
    "    plt.plot(train_accuracy_log,label='train accuracy')\n",
    "    plt.plot(val_accuracy_log,label='val accuracy')\n",
    "    plt.legend(loc='best')\n",
    "    plt.xlabel(\"epochs\")\n",
    "    plt.ylabel(\"accuracy\")\n",
    "    plt.title(\"model acc\")\n",
    "    plt.grid()\n",
    "    plt.show()\n",
    "    \n",
    "    \n",
    "    #plot the trainin loss and validation loss\n",
    "    \n",
    "    plt.plot(train_loss,label='training loss')\n",
    "    plt.plot(val_loss,label='validation loss')\n",
    "    plt.legend(loc='best')\n",
    "    plt.xlabel(\"epochs\")\n",
    "    plt.ylabel(\"loss\")\n",
    "    plt.title(\"model loss\")\n",
    "    plt.grid()\n",
    "    plt.show()"
   ]
  },
  {
   "cell_type": "markdown",
   "metadata": {},
   "source": [
    "## Data Visualization\n",
    "\n",
    "Visualizing data is an essential step in the data analysis process. It helps in understanding the underlying patterns, relationships, and distributions present in the data. Here are some common data visualization techniques:\n"
   ]
  },
  {
   "cell_type": "code",
   "execution_count": 6,
   "metadata": {},
   "outputs": [],
   "source": [
    "def visualize_using_pca(x_val,y_val):\n",
    "    pca = PCA(n_components=2)\n",
    "    \n",
    "    principalComponents = pca.fit_transform(X_val)\n",
    "    \n",
    "    principalDf = pd.DataFrame(data = principalComponents\n",
    "             , columns = ['principal component 1', 'principal component 2'])\n",
    "    \n",
    "    yy=pd.DataFrame(data=y_val,columns=['Activities_Types'] )\n",
    "    finalDf = pd.concat([principalDf, yy], axis = 1)\n",
    "    \n",
    "    fig = plt.figure(figsize = (8,8))\n",
    "    ax = fig.add_subplot(1,1,1) \n",
    "    ax.set_xlabel('Principal Component 1', fontsize = 15)\n",
    "    ax.set_ylabel('Principal Component 2', fontsize = 15)\n",
    "    ax.set_title('Using PCA', fontsize = 20)\n",
    "    \n",
    "     #0=dws, 1=ups,2=sit, 3=std,4=wlk,5=jog\n",
    "    targets = [0, 1,2,3,4,5]\n",
    "    colors = ['g', 'b', 'c','m', 'y', 'r']\n",
    "    \n",
    "    \n",
    "    for target, color in zip(targets,colors):\n",
    "        indicesToKeep = finalDf['Activities_Types'] == target\n",
    "        ax.scatter(finalDf.loc[indicesToKeep, 'principal component 1']\n",
    "               , finalDf.loc[indicesToKeep, 'principal component 2']\n",
    "               , c = color\n",
    "               , s = 50)\n",
    "    targets=['dws','ups','sit','std','wlk','jog']\n",
    "    ax.legend(targets)\n",
    "    ax.grid()\n",
    "    \n",
    "#visualization using PCA answer for 1Vi\n",
    "def visualize_using_tsne(x_val,y_val):\n",
    "    \n",
    "    \n",
    "    tsne = TSNE(n_components=2, random_state=0)\n",
    "    \n",
    "    principalComponents = tsne.fit_transform(X_val)\n",
    "    \n",
    "    #0=dws, 1=ups,2=sit, 3=std,4=wlk,5=jog\n",
    "    targets = [0, 1,2,3,4,5]\n",
    "\n",
    "    \n",
    "    principalDf = pd.DataFrame(data = principalComponents\n",
    "             , columns = ['principal component 1', 'principal component 2'])\n",
    "    \n",
    "    yy=pd.DataFrame(data=y_val,columns=['Activities_Types'] )\n",
    "    finalDf = pd.concat([principalDf, yy], axis = 1)\n",
    "    \n",
    "    fig = plt.figure(figsize = (8,8))\n",
    "    ax = fig.add_subplot(1,1,1) \n",
    "    ax.set_xlabel('Principal Component 1', fontsize = 15)\n",
    "    ax.set_ylabel('Principal Component 2', fontsize = 15)\n",
    "    ax.set_title('Using TSNE', fontsize = 20)\n",
    "    colors = ['g', 'b', 'c','m', 'y', 'r']\n",
    "    \n",
    "    \n",
    "    for target, color in zip(targets,colors):\n",
    "        indicesToKeep = finalDf['Activities_Types'] == target\n",
    "        ax.scatter(finalDf.loc[indicesToKeep, 'principal component 1']\n",
    "               , finalDf.loc[indicesToKeep, 'principal component 2']\n",
    "               , c = color\n",
    "               , s = 50)\n",
    "    targets=['dws','ups','sit','std','wlk','jog']\n",
    "    ax.legend(targets)\n",
    "    ax.grid()"
   ]
  },
  {
   "cell_type": "markdown",
   "metadata": {},
   "source": [
    "## Main Function\n",
    "\n",
    "The main function of the program orchestrates the execution flow and controls the overall behavior of the application. It typically performs the following tasks:\n",
    "\n",
    "1. **Data Preprocessing**: Loading and preprocessing the dataset, including tasks such as data cleaning, feature engineering, and splitting the data into training and testing sets.\n",
    "\n",
    "2. **Model Initialization**: Initializing the neural network model or any other machine learning model that will be used for analysis.\n",
    "\n",
    "3. **Training the Model**: Training the model on the training data, which involves iterative optimization of the model parameters using techniques like backpropagation and gradient descent.\n",
    "\n",
    "4. **Model Evaluation**: Evaluating the performance of the trained model on the testing data, typically using metrics such as accuracy, precision, recall, F1-score, etc.\n",
    "\n",
    "5. **Visualization**: Visualizing the results, including plots, charts, and graphs to illustrate the patterns, trends, and insights learned from the data.\n",
    "\n",
    "6. **Saving Results**: Saving the trained model, evaluation metrics, and visualizations to disk for future reference or deployment.\n",
    "\n"
   ]
  },
  {
   "cell_type": "code",
   "execution_count": 10,
   "metadata": {},
   "outputs": [
    {
     "name": "stderr",
     "output_type": "stream",
     "text": [
      "100%|███████████████████████████████████████████████████████████████████████████████████| 8/8 [00:00<00:00, 159.77it/s]\n",
      "100%|███████████████████████████████████████████████████████████████████████████████████| 8/8 [00:00<00:00, 172.03it/s]\n",
      "100%|███████████████████████████████████████████████████████████████████████████████████| 8/8 [00:00<00:00, 176.86it/s]\n",
      "100%|███████████████████████████████████████████████████████████████████████████████████| 8/8 [00:00<00:00, 183.65it/s]"
     ]
    },
    {
     "name": "stdout",
     "output_type": "stream",
     "text": [
      "Epoch 0\n",
      "Train accuracy: 0.4418974126191557\n",
      "Val accuracy: 0.4591651542649728\n",
      "Epoch 1\n",
      "Train accuracy: 0.6926917839310032\n",
      "Val accuracy: 0.6969147005444646\n",
      "Epoch 2\n",
      "Train accuracy: 0.6804357694053563\n",
      "Val accuracy: 0.6869328493647913\n"
     ]
    },
    {
     "name": "stderr",
     "output_type": "stream",
     "text": [
      "\n",
      "100%|███████████████████████████████████████████████████████████████████████████████████| 8/8 [00:00<00:00, 192.56it/s]\n",
      "100%|███████████████████████████████████████████████████████████████████████████████████| 8/8 [00:00<00:00, 206.71it/s]\n",
      "100%|███████████████████████████████████████████████████████████████████████████████████| 8/8 [00:00<00:00, 200.34it/s]"
     ]
    },
    {
     "name": "stdout",
     "output_type": "stream",
     "text": [
      "Epoch 3\n",
      "Train accuracy: 0.7126645483431684\n",
      "Val accuracy: 0.7268602540834845\n",
      "Epoch 4\n",
      "Train accuracy: 0.7428506581933727\n",
      "Val accuracy: 0.7495462794918331\n",
      "Epoch 5\n",
      "Train accuracy: 0.7725828415796641\n",
      "Val accuracy: 0.7803992740471869\n"
     ]
    },
    {
     "name": "stderr",
     "output_type": "stream",
     "text": [
      "\n",
      "100%|███████████████████████████████████████████████████████████████████████████████████| 8/8 [00:00<00:00, 194.36it/s]\n",
      "100%|███████████████████████████████████████████████████████████████████████████████████| 8/8 [00:00<00:00, 197.61it/s]\n",
      "100%|███████████████████████████████████████████████████████████████████████████████████| 8/8 [00:00<00:00, 201.74it/s]"
     ]
    },
    {
     "name": "stdout",
     "output_type": "stream",
     "text": [
      "Epoch 6\n",
      "Train accuracy: 0.7641852019972765\n",
      "Val accuracy: 0.7822141560798548\n",
      "Epoch 7\n",
      "Train accuracy: 0.7743985474353154\n",
      "Val accuracy: 0.7903811252268602\n",
      "Epoch 8\n",
      "Train accuracy: 0.7784838856105311\n",
      "Val accuracy: 0.7921960072595281\n"
     ]
    },
    {
     "name": "stderr",
     "output_type": "stream",
     "text": [
      "\n",
      "100%|███████████████████████████████████████████████████████████████████████████████████| 8/8 [00:00<00:00, 196.68it/s]\n",
      "100%|███████████████████████████████████████████████████████████████████████████████████| 8/8 [00:00<00:00, 166.59it/s]\n",
      "  0%|                                                                                            | 0/8 [00:00<?, ?it/s]"
     ]
    },
    {
     "name": "stdout",
     "output_type": "stream",
     "text": [
      "Epoch 9\n",
      "Train accuracy: 0.7941443486155243\n",
      "Val accuracy: 0.8039927404718693\n",
      "Epoch 10\n",
      "Train accuracy: 0.8002723558783477\n",
      "Val accuracy: 0.8021778584392014\n",
      "Epoch 11\n",
      "Train accuracy: 0.8057194734453018\n",
      "Val accuracy: 0.8121597096188747\n"
     ]
    },
    {
     "name": "stderr",
     "output_type": "stream",
     "text": [
      "100%|███████████████████████████████████████████████████████████████████████████████████| 8/8 [00:00<00:00, 180.21it/s]\n",
      "100%|███████████████████████████████████████████████████████████████████████████████████| 8/8 [00:00<00:00, 196.16it/s]\n",
      "100%|███████████████████████████████████████████████████████████████████████████████████| 8/8 [00:00<00:00, 191.00it/s]\n",
      "100%|███████████████████████████████████████████████████████████████████████████████████| 8/8 [00:00<00:00, 196.67it/s]"
     ]
    },
    {
     "name": "stdout",
     "output_type": "stream",
     "text": [
      "Epoch 12\n",
      "Train accuracy: 0.8147980027235587\n",
      "Val accuracy: 0.8248638838475499\n",
      "Epoch 13\n",
      "Train accuracy: 0.8109396277802996\n",
      "Val accuracy: 0.822141560798548\n",
      "Epoch 14\n",
      "Train accuracy: 0.8159328188833409\n",
      "Val accuracy: 0.8248638838475499\n"
     ]
    },
    {
     "name": "stderr",
     "output_type": "stream",
     "text": [
      "\n",
      "100%|███████████████████████████████████████████████████████████████████████████████████| 8/8 [00:00<00:00, 174.98it/s]\n",
      "100%|███████████████████████████████████████████████████████████████████████████████████| 8/8 [00:00<00:00, 198.84it/s]\n",
      "100%|███████████████████████████████████████████████████████████████████████████████████| 8/8 [00:00<00:00, 171.18it/s]"
     ]
    },
    {
     "name": "stdout",
     "output_type": "stream",
     "text": [
      "Epoch 15\n",
      "Train accuracy: 0.8177485247389923\n",
      "Val accuracy: 0.8321234119782214\n",
      "Epoch 16\n",
      "Train accuracy: 0.8218338629142079\n",
      "Val accuracy: 0.8330308529945554\n",
      "Epoch 17\n",
      "Train accuracy: 0.8231956423059464\n",
      "Val accuracy: 0.8312159709618875\n"
     ]
    },
    {
     "name": "stderr",
     "output_type": "stream",
     "text": [
      "\n",
      "100%|███████████████████████████████████████████████████████████████████████████████████| 8/8 [00:00<00:00, 183.89it/s]\n",
      "100%|███████████████████████████████████████████████████████████████████████████████████| 8/8 [00:00<00:00, 191.27it/s]\n",
      "100%|███████████████████████████████████████████████████████████████████████████████████| 8/8 [00:00<00:00, 195.17it/s]"
     ]
    },
    {
     "name": "stdout",
     "output_type": "stream",
     "text": [
      "Epoch 18\n",
      "Train accuracy: 0.8091239219246482\n",
      "Val accuracy: 0.8148820326678766\n",
      "Epoch 19\n",
      "Train accuracy: 0.8098048116205174\n",
      "Val accuracy: 0.8176043557168784\n",
      "Epoch 20\n",
      "Train accuracy: 0.8216068996822514\n",
      "Val accuracy: 0.8266787658802178\n"
     ]
    },
    {
     "name": "stderr",
     "output_type": "stream",
     "text": [
      "\n",
      "100%|███████████████████████████████████████████████████████████████████████████████████| 8/8 [00:00<00:00, 202.96it/s]\n",
      "100%|███████████████████████████████████████████████████████████████████████████████████| 8/8 [00:00<00:00, 205.30it/s]\n",
      "  0%|                                                                                            | 0/8 [00:00<?, ?it/s]"
     ]
    },
    {
     "name": "stdout",
     "output_type": "stream",
     "text": [
      "Epoch 21\n",
      "Train accuracy: 0.8227417158420336\n",
      "Val accuracy: 0.8330308529945554\n",
      "Epoch 22\n",
      "Train accuracy: 0.8172945982750794\n",
      "Val accuracy: 0.8266787658802178\n",
      "Epoch 23\n",
      "Train accuracy: 0.8322741715842034\n",
      "Val accuracy: 0.8366606170598911\n"
     ]
    },
    {
     "name": "stderr",
     "output_type": "stream",
     "text": [
      "100%|███████████████████████████████████████████████████████████████████████████████████| 8/8 [00:00<00:00, 196.84it/s]\n",
      "100%|███████████████████████████████████████████████████████████████████████████████████| 8/8 [00:00<00:00, 203.55it/s]\n",
      "100%|███████████████████████████████████████████████████████████████████████████████████| 8/8 [00:00<00:00, 197.29it/s]\n",
      "100%|███████████████████████████████████████████████████████████████████████████████████| 8/8 [00:00<00:00, 196.16it/s]"
     ]
    },
    {
     "name": "stdout",
     "output_type": "stream",
     "text": [
      "Epoch 24\n",
      "Train accuracy: 0.8372673626872447\n",
      "Val accuracy: 0.8448275862068966\n",
      "Epoch 25\n",
      "Train accuracy: 0.8404448479346346\n",
      "Val accuracy: 0.8430127041742287\n",
      "Epoch 26\n",
      "Train accuracy: 0.8388561053109397\n",
      "Val accuracy: 0.8439201451905626\n"
     ]
    },
    {
     "name": "stderr",
     "output_type": "stream",
     "text": [
      "\n",
      "100%|███████████████████████████████████████████████████████████████████████████████████| 8/8 [00:00<00:00, 192.12it/s]\n",
      "100%|███████████████████████████████████████████████████████████████████████████████████| 8/8 [00:00<00:00, 208.71it/s]\n",
      "100%|███████████████████████████████████████████████████████████████████████████████████| 8/8 [00:00<00:00, 200.54it/s]"
     ]
    },
    {
     "name": "stdout",
     "output_type": "stream",
     "text": [
      "Epoch 27\n",
      "Train accuracy: 0.849750340444848\n",
      "Val accuracy: 0.852994555353902\n",
      "Epoch 28\n",
      "Train accuracy: 0.8413527008624603\n",
      "Val accuracy: 0.8393829401088929\n",
      "Epoch 29\n",
      "Train accuracy: 0.8483885610531094\n",
      "Val accuracy: 0.8439201451905626\n"
     ]
    },
    {
     "name": "stderr",
     "output_type": "stream",
     "text": [
      "\n",
      "100%|███████████████████████████████████████████████████████████████████████████████████| 8/8 [00:00<00:00, 192.78it/s]\n",
      "100%|███████████████████████████████████████████████████████████████████████████████████| 8/8 [00:00<00:00, 185.36it/s]\n",
      "100%|███████████████████████████████████████████████████████████████████████████████████| 8/8 [00:00<00:00, 195.07it/s]"
     ]
    },
    {
     "name": "stdout",
     "output_type": "stream",
     "text": [
      "Epoch 30\n",
      "Train accuracy: 0.8447571493418067\n",
      "Val accuracy: 0.8439201451905626\n",
      "Epoch 31\n",
      "Train accuracy: 0.8427144802541988\n",
      "Val accuracy: 0.8411978221415608\n",
      "Epoch 32\n",
      "Train accuracy: 0.842260553790286\n",
      "Val accuracy: 0.8402903811252269\n"
     ]
    },
    {
     "name": "stderr",
     "output_type": "stream",
     "text": [
      "\n",
      "100%|███████████████████████████████████████████████████████████████████████████████████| 8/8 [00:00<00:00, 199.60it/s]\n",
      "100%|███████████████████████████████████████████████████████████████████████████████████| 8/8 [00:00<00:00, 190.77it/s]\n",
      "  0%|                                                                                            | 0/8 [00:00<?, ?it/s]"
     ]
    },
    {
     "name": "stdout",
     "output_type": "stream",
     "text": [
      "Epoch 33\n",
      "Train accuracy: 0.8443032228778938\n",
      "Val accuracy: 0.8439201451905626\n",
      "Epoch 34\n",
      "Train accuracy: 0.8440762596459374\n",
      "Val accuracy: 0.8457350272232305\n",
      "Epoch 35\n",
      "Train accuracy: 0.8470267816613709\n",
      "Val accuracy: 0.8493647912885662\n"
     ]
    },
    {
     "name": "stderr",
     "output_type": "stream",
     "text": [
      "100%|███████████████████████████████████████████████████████████████████████████████████| 8/8 [00:00<00:00, 199.94it/s]\n",
      "100%|███████████████████████████████████████████████████████████████████████████████████| 8/8 [00:00<00:00, 194.39it/s]\n",
      "100%|███████████████████████████████████████████████████████████████████████████████████| 8/8 [00:00<00:00, 199.03it/s]\n",
      "100%|███████████████████████████████████████████████████████████████████████████████████| 8/8 [00:00<00:00, 191.46it/s]"
     ]
    },
    {
     "name": "stdout",
     "output_type": "stream",
     "text": [
      "Epoch 36\n",
      "Train accuracy: 0.8477076713572401\n",
      "Val accuracy: 0.838475499092559\n",
      "Epoch 37\n",
      "Train accuracy: 0.8499773036768044\n",
      "Val accuracy: 0.8448275862068966\n",
      "Epoch 38\n",
      "Train accuracy: 0.8524738992283251\n",
      "Val accuracy: 0.8566243194192378\n"
     ]
    },
    {
     "name": "stderr",
     "output_type": "stream",
     "text": [
      "\n",
      "100%|███████████████████████████████████████████████████████████████████████████████████| 8/8 [00:00<00:00, 189.75it/s]\n",
      "100%|███████████████████████████████████████████████████████████████████████████████████| 8/8 [00:00<00:00, 189.41it/s]\n",
      "100%|███████████████████████████████████████████████████████████████████████████████████| 8/8 [00:00<00:00, 200.87it/s]"
     ]
    },
    {
     "name": "stdout",
     "output_type": "stream",
     "text": [
      "Epoch 39\n",
      "Train accuracy: 0.8572401270994099\n",
      "Val accuracy: 0.8620689655172413\n",
      "Epoch 40\n",
      "Train accuracy: 0.8502042669087608\n",
      "Val accuracy: 0.8511796733212341\n",
      "Epoch 41\n",
      "Train accuracy: 0.8583749432591921\n",
      "Val accuracy: 0.8593466424682396\n"
     ]
    },
    {
     "name": "stderr",
     "output_type": "stream",
     "text": [
      "\n",
      "100%|███████████████████████████████████████████████████████████████████████████████████| 8/8 [00:00<00:00, 188.72it/s]\n",
      "100%|███████████████████████████████████████████████████████████████████████████████████| 8/8 [00:00<00:00, 210.26it/s]\n",
      "100%|███████████████████████████████████████████████████████████████████████████████████| 8/8 [00:00<00:00, 204.50it/s]"
     ]
    },
    {
     "name": "stdout",
     "output_type": "stream",
     "text": [
      "Epoch 42\n",
      "Train accuracy: 0.8604176123467998\n",
      "Val accuracy: 0.8602540834845736\n",
      "Epoch 43\n",
      "Train accuracy: 0.8624602814344077\n",
      "Val accuracy: 0.8620689655172413\n",
      "Epoch 44\n",
      "Train accuracy: 0.8620063549704948\n",
      "Val accuracy: 0.8602540834845736\n"
     ]
    },
    {
     "name": "stderr",
     "output_type": "stream",
     "text": [
      "\n",
      "100%|███████████████████████████████████████████████████████████████████████████████████| 8/8 [00:00<00:00, 200.38it/s]\n",
      "100%|███████████████████████████████████████████████████████████████████████████████████| 8/8 [00:00<00:00, 197.47it/s]\n",
      "100%|███████████████████████████████████████████████████████████████████████████████████| 8/8 [00:00<00:00, 203.68it/s]"
     ]
    },
    {
     "name": "stdout",
     "output_type": "stream",
     "text": [
      "Epoch 45\n",
      "Train accuracy: 0.8576940535633227\n",
      "Val accuracy: 0.8602540834845736\n",
      "Epoch 46\n",
      "Train accuracy: 0.8522469359963686\n",
      "Val accuracy: 0.8584392014519057\n",
      "Epoch 47\n",
      "Train accuracy: 0.8647299137539719\n",
      "Val accuracy: 0.8620689655172413\n"
     ]
    },
    {
     "name": "stderr",
     "output_type": "stream",
     "text": [
      "\n",
      "100%|███████████████████████████████████████████████████████████████████████████████████| 8/8 [00:00<00:00, 189.03it/s]\n",
      "100%|███████████████████████████████████████████████████████████████████████████████████| 8/8 [00:00<00:00, 185.62it/s]\n",
      "  0%|                                                                                            | 0/8 [00:00<?, ?it/s]"
     ]
    },
    {
     "name": "stdout",
     "output_type": "stream",
     "text": [
      "Epoch 48\n",
      "Train accuracy: 0.8586019064911484\n",
      "Val accuracy: 0.8584392014519057\n",
      "Epoch 49\n",
      "Train accuracy: 0.8642759872900591\n",
      "Val accuracy: 0.8602540834845736\n",
      "Epoch 50\n",
      "Train accuracy: 0.8645029505220154\n",
      "Val accuracy: 0.8656987295825771\n"
     ]
    },
    {
     "name": "stderr",
     "output_type": "stream",
     "text": [
      "100%|███████████████████████████████████████████████████████████████████████████████████| 8/8 [00:00<00:00, 164.26it/s]\n",
      "100%|███████████████████████████████████████████████████████████████████████████████████| 8/8 [00:00<00:00, 182.86it/s]\n",
      "100%|███████████████████████████████████████████████████████████████████████████████████| 8/8 [00:00<00:00, 179.74it/s]\n",
      "  0%|                                                                                            | 0/8 [00:00<?, ?it/s]"
     ]
    },
    {
     "name": "stdout",
     "output_type": "stream",
     "text": [
      "Epoch 51\n",
      "Train accuracy: 0.859963685882887\n",
      "Val accuracy: 0.8611615245009074\n",
      "Epoch 52\n",
      "Train accuracy: 0.861552428506582\n",
      "Val accuracy: 0.8620689655172413\n",
      "Epoch 53\n",
      "Train accuracy: 0.8663186563776668\n",
      "Val accuracy: 0.8647912885662432\n"
     ]
    },
    {
     "name": "stderr",
     "output_type": "stream",
     "text": [
      "100%|███████████████████████████████████████████████████████████████████████████████████| 8/8 [00:00<00:00, 178.75it/s]\n",
      "100%|███████████████████████████████████████████████████████████████████████████████████| 8/8 [00:00<00:00, 187.37it/s]\n",
      "100%|███████████████████████████████████████████████████████████████████████████████████| 8/8 [00:00<00:00, 145.28it/s]\n"
     ]
    },
    {
     "name": "stdout",
     "output_type": "stream",
     "text": [
      "Epoch 54\n",
      "Train accuracy: 0.867453472537449\n",
      "Val accuracy: 0.8638838475499092\n",
      "Epoch 55\n",
      "Train accuracy: 0.867453472537449\n",
      "Val accuracy: 0.8638838475499092\n",
      "Epoch 56\n",
      "Train accuracy: 0.8601906491148434\n",
      "Val accuracy: 0.8566243194192378\n"
     ]
    },
    {
     "name": "stderr",
     "output_type": "stream",
     "text": [
      "100%|███████████████████████████████████████████████████████████████████████████████████| 8/8 [00:00<00:00, 192.35it/s]\n",
      "100%|███████████████████████████████████████████████████████████████████████████████████| 8/8 [00:00<00:00, 204.86it/s]\n",
      "100%|███████████████████████████████████████████████████████████████████████████████████| 8/8 [00:00<00:00, 206.27it/s]\n",
      "100%|███████████████████████████████████████████████████████████████████████████████████| 8/8 [00:00<00:00, 205.95it/s]"
     ]
    },
    {
     "name": "stdout",
     "output_type": "stream",
     "text": [
      "Epoch 57\n",
      "Train accuracy: 0.8629142078983205\n",
      "Val accuracy: 0.8539019963702359\n",
      "Epoch 58\n",
      "Train accuracy: 0.8667725828415797\n",
      "Val accuracy: 0.8584392014519057\n",
      "Epoch 59\n",
      "Train accuracy: 0.8663186563776668\n",
      "Val accuracy: 0.8638838475499092\n"
     ]
    },
    {
     "name": "stderr",
     "output_type": "stream",
     "text": [
      "\n",
      "100%|███████████████████████████████████████████████████████████████████████████████████| 8/8 [00:00<00:00, 203.28it/s]\n",
      "100%|███████████████████████████████████████████████████████████████████████████████████| 8/8 [00:00<00:00, 206.80it/s]\n",
      "100%|███████████████████████████████████████████████████████████████████████████████████| 8/8 [00:00<00:00, 204.87it/s]"
     ]
    },
    {
     "name": "stdout",
     "output_type": "stream",
     "text": [
      "Epoch 60\n",
      "Train accuracy: 0.8633681343622334\n",
      "Val accuracy: 0.8602540834845736\n",
      "Epoch 61\n",
      "Train accuracy: 0.8645029505220154\n",
      "Val accuracy: 0.8593466424682396\n",
      "Epoch 62\n",
      "Train accuracy: 0.865864729913754\n",
      "Val accuracy: 0.8656987295825771\n",
      "Epoch 63\n",
      "Train accuracy: 0.868588288697231\n",
      "Val accuracy: 0.8656987295825771\n"
     ]
    },
    {
     "name": "stderr",
     "output_type": "stream",
     "text": [
      "\n",
      "100%|███████████████████████████████████████████████████████████████████████████████████| 8/8 [00:00<00:00, 220.33it/s]\n",
      "100%|███████████████████████████████████████████████████████████████████████████████████| 8/8 [00:00<00:00, 199.14it/s]\n",
      "100%|███████████████████████████████████████████████████████████████████████████████████| 8/8 [00:00<00:00, 183.37it/s]\n",
      "100%|███████████████████████████████████████████████████████████████████████████████████| 8/8 [00:00<00:00, 184.69it/s]"
     ]
    },
    {
     "name": "stdout",
     "output_type": "stream",
     "text": [
      "Epoch 64\n",
      "Train accuracy: 0.8699500680889696\n",
      "Val accuracy: 0.868421052631579\n",
      "Epoch 65\n",
      "Train accuracy: 0.870177031320926\n",
      "Val accuracy: 0.868421052631579\n",
      "Epoch 66\n",
      "Train accuracy: 0.8694961416250567\n",
      "Val accuracy: 0.8702359346642469\n"
     ]
    },
    {
     "name": "stderr",
     "output_type": "stream",
     "text": [
      "\n",
      "100%|███████████████████████████████████████████████████████████████████████████████████| 8/8 [00:00<00:00, 178.39it/s]\n",
      "100%|███████████████████████████████████████████████████████████████████████████████████| 8/8 [00:00<00:00, 174.08it/s]\n"
     ]
    },
    {
     "name": "stdout",
     "output_type": "stream",
     "text": [
      "Epoch 67\n",
      "Train accuracy: 0.8740354062641852\n",
      "Val accuracy: 0.8729582577132486\n",
      "Epoch 68\n",
      "Train accuracy: 0.8729005901044031\n",
      "Val accuracy: 0.8747731397459165\n",
      "Epoch 69\n",
      "Train accuracy: 0.8715388107126646\n",
      "Val accuracy: 0.8729582577132486\n"
     ]
    },
    {
     "name": "stderr",
     "output_type": "stream",
     "text": [
      "100%|███████████████████████████████████████████████████████████████████████████████████| 8/8 [00:00<00:00, 183.57it/s]\n",
      "100%|███████████████████████████████████████████████████████████████████████████████████| 8/8 [00:00<00:00, 196.73it/s]\n",
      "100%|███████████████████████████████████████████████████████████████████████████████████| 8/8 [00:00<00:00, 202.07it/s]\n",
      "100%|███████████████████████████████████████████████████████████████████████████████████| 8/8 [00:00<00:00, 195.90it/s]"
     ]
    },
    {
     "name": "stdout",
     "output_type": "stream",
     "text": [
      "Epoch 70\n",
      "Train accuracy: 0.8763050385837494\n",
      "Val accuracy: 0.8784029038112523\n",
      "Epoch 71\n",
      "Train accuracy: 0.8769859282796187\n",
      "Val accuracy: 0.8756805807622504\n",
      "Epoch 72\n",
      "Train accuracy: 0.8706309577848389\n",
      "Val accuracy: 0.8620689655172413\n"
     ]
    },
    {
     "name": "stderr",
     "output_type": "stream",
     "text": [
      "\n",
      "100%|███████████████████████████████████████████████████████████████████████████████████| 8/8 [00:00<00:00, 200.33it/s]\n",
      "100%|███████████████████████████████████████████████████████████████████████████████████| 8/8 [00:00<00:00, 206.43it/s]\n",
      "100%|███████████████████████████████████████████████████████████████████████████████████| 8/8 [00:00<00:00, 189.58it/s]"
     ]
    },
    {
     "name": "stdout",
     "output_type": "stream",
     "text": [
      "Epoch 73\n",
      "Train accuracy: 0.8688152519291875\n",
      "Val accuracy: 0.8711433756805808\n",
      "Epoch 74\n",
      "Train accuracy: 0.8724466636404903\n",
      "Val accuracy: 0.8711433756805808\n",
      "Epoch 75\n",
      "Train accuracy: 0.8699500680889696\n",
      "Val accuracy: 0.8711433756805808\n"
     ]
    },
    {
     "name": "stderr",
     "output_type": "stream",
     "text": [
      "\n",
      "100%|███████████████████████████████████████████████████████████████████████████████████| 8/8 [00:00<00:00, 207.11it/s]\n",
      "100%|███████████████████████████████████████████████████████████████████████████████████| 8/8 [00:00<00:00, 203.50it/s]\n",
      "100%|███████████████████████████████████████████████████████████████████████████████████| 8/8 [00:00<00:00, 194.60it/s]"
     ]
    },
    {
     "name": "stdout",
     "output_type": "stream",
     "text": [
      "Epoch 76\n",
      "Train accuracy: 0.8808443032228779\n",
      "Val accuracy: 0.8774954627949183\n",
      "Epoch 77\n",
      "Train accuracy: 0.8774398547435316\n",
      "Val accuracy: 0.8729582577132486\n",
      "Epoch 78\n",
      "Train accuracy: 0.8667725828415797\n",
      "Val accuracy: 0.8584392014519057\n"
     ]
    },
    {
     "name": "stderr",
     "output_type": "stream",
     "text": [
      "\n",
      "100%|███████████████████████████████████████████████████████████████████████████████████| 8/8 [00:00<00:00, 195.65it/s]\n",
      "100%|███████████████████████████████████████████████████████████████████████████████████| 8/8 [00:00<00:00, 205.06it/s]\n",
      "100%|███████████████████████████████████████████████████████████████████████████████████| 8/8 [00:00<00:00, 207.91it/s]"
     ]
    },
    {
     "name": "stdout",
     "output_type": "stream",
     "text": [
      "Epoch 79\n",
      "Train accuracy: 0.873354516568316\n",
      "Val accuracy: 0.8638838475499092\n",
      "Epoch 80\n",
      "Train accuracy: 0.8747162959600545\n",
      "Val accuracy: 0.868421052631579\n",
      "Epoch 81\n",
      "Train accuracy: 0.8808443032228779\n",
      "Val accuracy: 0.8702359346642469\n"
     ]
    },
    {
     "name": "stderr",
     "output_type": "stream",
     "text": [
      "\n",
      "100%|███████████████████████████████████████████████████████████████████████████████████| 8/8 [00:00<00:00, 205.04it/s]\n",
      "100%|███████████████████████████████████████████████████████████████████████████████████| 8/8 [00:00<00:00, 213.98it/s]\n",
      "100%|███████████████████████████████████████████████████████████████████████████████████| 8/8 [00:00<00:00, 201.08it/s]"
     ]
    },
    {
     "name": "stdout",
     "output_type": "stream",
     "text": [
      "Epoch 82\n",
      "Train accuracy: 0.8765320018157059\n",
      "Val accuracy: 0.868421052631579\n",
      "Epoch 83\n",
      "Train accuracy: 0.8778937812074444\n",
      "Val accuracy: 0.867513611615245\n",
      "Epoch 84\n",
      "Train accuracy: 0.8842487517022243\n",
      "Val accuracy: 0.8765880217785844\n"
     ]
    },
    {
     "name": "stderr",
     "output_type": "stream",
     "text": [
      "\n",
      "100%|███████████████████████████████████████████████████████████████████████████████████| 8/8 [00:00<00:00, 206.82it/s]\n",
      "100%|███████████████████████████████████████████████████████████████████████████████████| 8/8 [00:00<00:00, 209.60it/s]\n",
      "  0%|                                                                                            | 0/8 [00:00<?, ?it/s]"
     ]
    },
    {
     "name": "stdout",
     "output_type": "stream",
     "text": [
      "Epoch 85\n",
      "Train accuracy: 0.874489332728098\n",
      "Val accuracy: 0.8666061705989111\n",
      "Epoch 86\n",
      "Train accuracy: 0.8749432591920109\n",
      "Val accuracy: 0.8666061705989111\n",
      "Epoch 87\n",
      "Train accuracy: 0.8715388107126646\n",
      "Val accuracy: 0.8647912885662432\n"
     ]
    },
    {
     "name": "stderr",
     "output_type": "stream",
     "text": [
      "100%|███████████████████████████████████████████████████████████████████████████████████| 8/8 [00:00<00:00, 208.65it/s]\n",
      "100%|███████████████████████████████████████████████████████████████████████████████████| 8/8 [00:00<00:00, 207.96it/s]\n",
      "100%|███████████████████████████████████████████████████████████████████████████████████| 8/8 [00:00<00:00, 209.12it/s]\n",
      "100%|███████████████████████████████████████████████████████████████████████████████████| 8/8 [00:00<00:00, 185.28it/s]"
     ]
    },
    {
     "name": "stdout",
     "output_type": "stream",
     "text": [
      "Epoch 88\n",
      "Train accuracy: 0.879255560599183\n",
      "Val accuracy: 0.8756805807622504\n",
      "Epoch 89\n",
      "Train accuracy: 0.8706309577848389\n",
      "Val accuracy: 0.8611615245009074\n",
      "Epoch 90\n",
      "Train accuracy: 0.8822060826146164\n",
      "Val accuracy: 0.8738656987295825\n"
     ]
    },
    {
     "name": "stderr",
     "output_type": "stream",
     "text": [
      "\n",
      "100%|███████████████████████████████████████████████████████████████████████████████████| 8/8 [00:00<00:00, 168.02it/s]\n",
      "100%|███████████████████████████████████████████████████████████████████████████████████| 8/8 [00:00<00:00, 170.00it/s]\n",
      "  0%|                                                                                            | 0/8 [00:00<?, ?it/s]"
     ]
    },
    {
     "name": "stdout",
     "output_type": "stream",
     "text": [
      "Epoch 91\n",
      "Train accuracy: 0.8785746709033136\n",
      "Val accuracy: 0.868421052631579\n",
      "Epoch 92\n",
      "Train accuracy: 0.8794825238311393\n",
      "Val accuracy: 0.8720508166969148\n",
      "Epoch 93\n",
      "Train accuracy: 0.8856105310939628\n",
      "Val accuracy: 0.8756805807622504\n"
     ]
    },
    {
     "name": "stderr",
     "output_type": "stream",
     "text": [
      "100%|███████████████████████████████████████████████████████████████████████████████████| 8/8 [00:00<00:00, 179.52it/s]\n",
      "100%|███████████████████████████████████████████████████████████████████████████████████| 8/8 [00:00<00:00, 180.29it/s]\n",
      "100%|███████████████████████████████████████████████████████████████████████████████████| 8/8 [00:00<00:00, 160.66it/s]\n",
      "  0%|                                                                                            | 0/8 [00:00<?, ?it/s]"
     ]
    },
    {
     "name": "stdout",
     "output_type": "stream",
     "text": [
      "Epoch 94\n",
      "Train accuracy: 0.879255560599183\n",
      "Val accuracy: 0.867513611615245\n",
      "Epoch 95\n",
      "Train accuracy: 0.8799364502950522\n",
      "Val accuracy: 0.8720508166969148\n",
      "Epoch 96\n",
      "Train accuracy: 0.8758511121198366\n",
      "Val accuracy: 0.868421052631579\n"
     ]
    },
    {
     "name": "stderr",
     "output_type": "stream",
     "text": [
      "100%|███████████████████████████████████████████████████████████████████████████████████| 8/8 [00:00<00:00, 175.39it/s]\n",
      "100%|███████████████████████████████████████████████████████████████████████████████████| 8/8 [00:00<00:00, 193.14it/s]\n",
      "100%|███████████████████████████████████████████████████████████████████████████████████| 8/8 [00:00<00:00, 204.30it/s]\n",
      "100%|███████████████████████████████████████████████████████████████████████████████████| 8/8 [00:00<00:00, 184.67it/s]"
     ]
    },
    {
     "name": "stdout",
     "output_type": "stream",
     "text": [
      "Epoch 97\n",
      "Train accuracy: 0.8735814798002723\n",
      "Val accuracy: 0.8593466424682396\n",
      "Epoch 98\n",
      "Train accuracy: 0.8826600090785293\n",
      "Val accuracy: 0.8738656987295825\n",
      "Epoch 99\n",
      "Train accuracy: 0.8849296413980935\n",
      "Val accuracy: 0.8865698729582577\n"
     ]
    },
    {
     "name": "stderr",
     "output_type": "stream",
     "text": [
      "\n",
      "100%|███████████████████████████████████████████████████████████████████████████████████| 8/8 [00:00<00:00, 193.41it/s]\n",
      "100%|███████████████████████████████████████████████████████████████████████████████████| 8/8 [00:00<00:00, 196.48it/s]\n",
      "100%|███████████████████████████████████████████████████████████████████████████████████| 8/8 [00:00<00:00, 197.20it/s]"
     ]
    },
    {
     "name": "stdout",
     "output_type": "stream",
     "text": [
      "Epoch 100\n",
      "Train accuracy: 0.8847026781661371\n",
      "Val accuracy: 0.8820326678765881\n",
      "Epoch 101\n",
      "Train accuracy: 0.8772128915115751\n",
      "Val accuracy: 0.8693284936479129\n",
      "Epoch 102\n",
      "Train accuracy: 0.8826600090785293\n",
      "Val accuracy: 0.8765880217785844\n"
     ]
    },
    {
     "name": "stderr",
     "output_type": "stream",
     "text": [
      "\n",
      "100%|███████████████████████████████████████████████████████████████████████████████████| 8/8 [00:00<00:00, 200.89it/s]\n",
      "100%|███████████████████████████████████████████████████████████████████████████████████| 8/8 [00:00<00:00, 197.60it/s]\n",
      "100%|███████████████████████████████████████████████████████████████████████████████████| 8/8 [00:00<00:00, 208.43it/s]"
     ]
    },
    {
     "name": "stdout",
     "output_type": "stream",
     "text": [
      "Epoch 103\n",
      "Train accuracy: 0.8842487517022243\n",
      "Val accuracy: 0.882940108892922\n",
      "Epoch 104\n",
      "Train accuracy: 0.8808443032228779\n",
      "Val accuracy: 0.8711433756805808\n",
      "Epoch 105\n",
      "Train accuracy: 0.879255560599183\n",
      "Val accuracy: 0.8711433756805808\n"
     ]
    },
    {
     "name": "stderr",
     "output_type": "stream",
     "text": [
      "\n",
      "100%|███████████████████████████████████████████████████████████████████████████████████| 8/8 [00:00<00:00, 204.74it/s]\n",
      "100%|███████████████████████████████████████████████████████████████████████████████████| 8/8 [00:00<00:00, 200.12it/s]\n",
      "100%|███████████████████████████████████████████████████████████████████████████████████| 8/8 [00:00<00:00, 190.49it/s]"
     ]
    },
    {
     "name": "stdout",
     "output_type": "stream",
     "text": [
      "Epoch 106\n",
      "Train accuracy: 0.8778937812074444\n",
      "Val accuracy: 0.8647912885662432\n",
      "Epoch 107\n",
      "Train accuracy: 0.880390376758965\n",
      "Val accuracy: 0.8693284936479129\n",
      "Epoch 108\n",
      "Train accuracy: 0.8815251929187472\n",
      "Val accuracy: 0.8774954627949183\n"
     ]
    },
    {
     "name": "stderr",
     "output_type": "stream",
     "text": [
      "\n",
      "100%|███████████████████████████████████████████████████████████████████████████████████| 8/8 [00:00<00:00, 169.23it/s]\n",
      "100%|███████████████████████████████████████████████████████████████████████████████████| 8/8 [00:00<00:00, 199.96it/s]\n",
      "  0%|                                                                                            | 0/8 [00:00<?, ?it/s]"
     ]
    },
    {
     "name": "stdout",
     "output_type": "stream",
     "text": [
      "Epoch 109\n",
      "Train accuracy: 0.8833408987743986\n",
      "Val accuracy: 0.8756805807622504\n",
      "Epoch 110\n",
      "Train accuracy: 0.8849296413980935\n",
      "Val accuracy: 0.8802177858439202\n",
      "Epoch 111\n",
      "Train accuracy: 0.8858374943259192\n",
      "Val accuracy: 0.8765880217785844\n"
     ]
    },
    {
     "name": "stderr",
     "output_type": "stream",
     "text": [
      "100%|███████████████████████████████████████████████████████████████████████████████████| 8/8 [00:00<00:00, 183.00it/s]\n",
      "100%|███████████████████████████████████████████████████████████████████████████████████| 8/8 [00:00<00:00, 179.26it/s]\n",
      "100%|███████████████████████████████████████████████████████████████████████████████████| 8/8 [00:00<00:00, 186.69it/s]\n",
      "  0%|                                                                                            | 0/8 [00:00<?, ?it/s]"
     ]
    },
    {
     "name": "stdout",
     "output_type": "stream",
     "text": [
      "Epoch 112\n",
      "Train accuracy: 0.8826600090785293\n",
      "Val accuracy: 0.8720508166969148\n",
      "Epoch 113\n",
      "Train accuracy: 0.8817521561507036\n",
      "Val accuracy: 0.8729582577132486\n",
      "Epoch 114\n",
      "Train accuracy: 0.880390376758965\n",
      "Val accuracy: 0.8702359346642469\n"
     ]
    },
    {
     "name": "stderr",
     "output_type": "stream",
     "text": [
      "100%|███████████████████████████████████████████████████████████████████████████████████| 8/8 [00:00<00:00, 174.82it/s]\n",
      "100%|███████████████████████████████████████████████████████████████████████████████████| 8/8 [00:00<00:00, 182.15it/s]\n",
      "100%|███████████████████████████████████████████████████████████████████████████████████| 8/8 [00:00<00:00, 178.07it/s]\n",
      "100%|███████████████████████████████████████████████████████████████████████████████████| 8/8 [00:00<00:00, 183.39it/s]"
     ]
    },
    {
     "name": "stdout",
     "output_type": "stream",
     "text": [
      "Epoch 115\n",
      "Train accuracy: 0.8806173399909215\n",
      "Val accuracy: 0.8693284936479129\n",
      "Epoch 116\n",
      "Train accuracy: 0.8772128915115751\n",
      "Val accuracy: 0.8693284936479129\n",
      "Epoch 117\n",
      "Train accuracy: 0.8853835678620063\n",
      "Val accuracy: 0.8847549909255898\n"
     ]
    },
    {
     "name": "stderr",
     "output_type": "stream",
     "text": [
      "\n",
      "100%|███████████████████████████████████████████████████████████████████████████████████| 8/8 [00:00<00:00, 187.23it/s]\n",
      "100%|███████████████████████████████████████████████████████████████████████████████████| 8/8 [00:00<00:00, 192.91it/s]\n",
      "100%|███████████████████████████████████████████████████████████████████████████████████| 8/8 [00:00<00:00, 212.47it/s]"
     ]
    },
    {
     "name": "stdout",
     "output_type": "stream",
     "text": [
      "Epoch 118\n",
      "Train accuracy: 0.8833408987743986\n",
      "Val accuracy: 0.8747731397459165\n",
      "Epoch 119\n",
      "Train accuracy: 0.8847026781661371\n",
      "Val accuracy: 0.8784029038112523\n",
      "Epoch 120\n",
      "Train accuracy: 0.8847026781661371\n",
      "Val accuracy: 0.8802177858439202\n"
     ]
    },
    {
     "name": "stderr",
     "output_type": "stream",
     "text": [
      "\n",
      "100%|███████████████████████████████████████████████████████████████████████████████████| 8/8 [00:00<00:00, 217.02it/s]\n",
      "100%|███████████████████████████████████████████████████████████████████████████████████| 8/8 [00:00<00:00, 176.57it/s]\n",
      "100%|███████████████████████████████████████████████████████████████████████████████████| 8/8 [00:00<00:00, 210.11it/s]"
     ]
    },
    {
     "name": "stdout",
     "output_type": "stream",
     "text": [
      "Epoch 121\n",
      "Train accuracy: 0.8801634135270087\n",
      "Val accuracy: 0.8756805807622504\n",
      "Epoch 122\n",
      "Train accuracy: 0.8808443032228779\n",
      "Val accuracy: 0.8747731397459165\n",
      "Epoch 123\n",
      "Train accuracy: 0.8815251929187472\n",
      "Val accuracy: 0.8747731397459165\n"
     ]
    },
    {
     "name": "stderr",
     "output_type": "stream",
     "text": [
      "\n",
      "100%|███████████████████████████████████████████████████████████████████████████████████| 8/8 [00:00<00:00, 188.03it/s]\n",
      "100%|███████████████████████████████████████████████████████████████████████████████████| 8/8 [00:00<00:00, 193.65it/s]\n",
      "100%|███████████████████████████████████████████████████████████████████████████████████| 8/8 [00:00<00:00, 181.07it/s]"
     ]
    },
    {
     "name": "stdout",
     "output_type": "stream",
     "text": [
      "Epoch 124\n",
      "Train accuracy: 0.877666817975488\n",
      "Val accuracy: 0.8656987295825771\n",
      "Epoch 125\n",
      "Train accuracy: 0.8769859282796187\n",
      "Val accuracy: 0.8629764065335753\n",
      "Epoch 126\n",
      "Train accuracy: 0.8808443032228779\n",
      "Val accuracy: 0.8720508166969148\n"
     ]
    },
    {
     "name": "stderr",
     "output_type": "stream",
     "text": [
      "\n",
      "100%|███████████████████████████████████████████████████████████████████████████████████| 8/8 [00:00<00:00, 171.77it/s]\n",
      "100%|███████████████████████████████████████████████████████████████████████████████████| 8/8 [00:00<00:00, 181.60it/s]\n",
      "  0%|                                                                                            | 0/8 [00:00<?, ?it/s]"
     ]
    },
    {
     "name": "stdout",
     "output_type": "stream",
     "text": [
      "Epoch 127\n",
      "Train accuracy: 0.8840217884702678\n",
      "Val accuracy: 0.8747731397459165\n",
      "Epoch 128\n",
      "Train accuracy: 0.8781207444394008\n",
      "Val accuracy: 0.8666061705989111\n",
      "Epoch 129\n",
      "Train accuracy: 0.8806173399909215\n",
      "Val accuracy: 0.8729582577132486\n"
     ]
    },
    {
     "name": "stderr",
     "output_type": "stream",
     "text": [
      "100%|███████████████████████████████████████████████████████████████████████████████████| 8/8 [00:00<00:00, 181.36it/s]\n",
      "100%|███████████████████████████████████████████████████████████████████████████████████| 8/8 [00:00<00:00, 184.55it/s]\n",
      "100%|███████████████████████████████████████████████████████████████████████████████████| 8/8 [00:00<00:00, 189.86it/s]\n",
      "100%|███████████████████████████████████████████████████████████████████████████████████| 8/8 [00:00<00:00, 193.32it/s]"
     ]
    },
    {
     "name": "stdout",
     "output_type": "stream",
     "text": [
      "Epoch 130\n",
      "Train accuracy: 0.879255560599183\n",
      "Val accuracy: 0.8656987295825771\n",
      "Epoch 131\n",
      "Train accuracy: 0.8840217884702678\n",
      "Val accuracy: 0.8738656987295825\n",
      "Epoch 132\n",
      "Train accuracy: 0.8826600090785293\n",
      "Val accuracy: 0.8702359346642469\n"
     ]
    },
    {
     "name": "stderr",
     "output_type": "stream",
     "text": [
      "\n",
      "100%|███████████████████████████████████████████████████████████████████████████████████| 8/8 [00:00<00:00, 187.56it/s]\n",
      "100%|███████████████████████████████████████████████████████████████████████████████████| 8/8 [00:00<00:00, 199.89it/s]\n",
      "100%|███████████████████████████████████████████████████████████████████████████████████| 8/8 [00:00<00:00, 172.18it/s]"
     ]
    },
    {
     "name": "stdout",
     "output_type": "stream",
     "text": [
      "Epoch 133\n",
      "Train accuracy: 0.8788016341352701\n",
      "Val accuracy: 0.8666061705989111\n",
      "Epoch 134\n",
      "Train accuracy: 0.879255560599183\n",
      "Val accuracy: 0.868421052631579\n",
      "Epoch 135\n",
      "Train accuracy: 0.88515660463005\n",
      "Val accuracy: 0.8820326678765881\n"
     ]
    },
    {
     "name": "stderr",
     "output_type": "stream",
     "text": [
      "\n",
      "100%|███████████████████████████████████████████████████████████████████████████████████| 8/8 [00:00<00:00, 189.09it/s]\n",
      "100%|███████████████████████████████████████████████████████████████████████████████████| 8/8 [00:00<00:00, 190.22it/s]\n",
      "100%|███████████████████████████████████████████████████████████████████████████████████| 8/8 [00:00<00:00, 195.52it/s]"
     ]
    },
    {
     "name": "stdout",
     "output_type": "stream",
     "text": [
      "Epoch 136\n",
      "Train accuracy: 0.8815251929187472\n",
      "Val accuracy: 0.8693284936479129\n",
      "Epoch 137\n",
      "Train accuracy: 0.8797094870630958\n",
      "Val accuracy: 0.8666061705989111\n",
      "Epoch 138\n",
      "Train accuracy: 0.8860644575578757\n",
      "Val accuracy: 0.8784029038112523\n"
     ]
    },
    {
     "name": "stderr",
     "output_type": "stream",
     "text": [
      "\n"
     ]
    },
    {
     "name": "stdout",
     "output_type": "stream",
     "text": [
      "Epoch 139\n",
      "Train accuracy: 0.8876532001815706\n",
      "Val accuracy: 0.882940108892922\n"
     ]
    },
    {
     "data": {
      "image/png": "[encoded data removed]",
      "text/plain": [
       "<Figure size 432x288 with 1 Axes>"
      ]
     },
     "metadata": {
      "needs_background": "light"
     },
     "output_type": "display_data"
    },
    {
     "data": {
      "image/png": "[encoded data removed]",
      "text/plain": [
       "<Figure size 432x288 with 1 Axes>"
      ]
     },
     "metadata": {
      "needs_background": "light"
     },
     "output_type": "display_data"
    }
   ],
   "source": [
    "if __name__ == '__main__':\n",
    "    np.random.seed(42)\n",
    "    #read the entire dataset\n",
    "    datasets = pd.read_csv('Data.csv',header=0)\n",
    "    \n",
    "    X,y=datasets[datasets.columns.difference(['Activities_Types'])],datasets.loc[:,'Activities_Types']\n",
    "    \n",
    "    X,y=X.values,y.values\n",
    "    \n",
    "    \"\"\"\n",
    "    in the trainin dataset the Activities type starts with 1 and ends at 6\n",
    "    to make it easy for one hot encoding I subtract one from the y_vale\n",
    "    and now it becomes 0,1,2,3,4,5 which stands for 0=dws, 1=ups,2=sit, 3=std,4=wlk,5=jog\n",
    "    later on when we save the test set to a file we will add one to the predicted value\n",
    "    \"\"\"\n",
    "    y=y-1\n",
    "    \n",
    "    #do the split training 80% and validation 20%\n",
    "    \n",
    "    X_train,X_val,y_train,y_val=train_test_split(X,y,test_size = 0.2,random_state=40)\n",
    "     #build the deep learning network based on the output after we performed a grdi searc\n",
    "    network = []\n",
    "    create_the_network()\n",
    "  \n",
    "    #variables to record the training accuracy and validation accuracy\n",
    "    train_accuracy_log = []\n",
    "    val_accuracy_log = []\n",
    "    \n",
    "    train_loss=[]\n",
    "    val_loss=[]\n",
    "    \n",
    "    \n",
    "    \"\"\"\n",
    "    ################################################################################################\n",
    "    ###                        Hint : switching variable                                         ###\n",
    "    ###   optimization_option=0 means adam optimizer                                             ###\n",
    "    ###   optimization_option=1 means SGD                                                        ###\n",
    "    ###   optimization_option=2 means adagrad                                                    ###\n",
    "    ##             Thus change the value of this parameter and rerun it to see the difference    ###\n",
    "    ################################################################################################\n",
    "            \n",
    "    \"\"\"\n",
    "    \n",
    "    # I set the defaoult to adam \n",
    "    #change this value and rerun the model\n",
    "    optimization_option=2\n",
    "    #based on the GridSearch Value I found the following best paramaters for accuracy\n",
    "    \n",
    "    if optimization_option==0:\n",
    "         batch_size=512\n",
    "    elif optimization_option==1:\n",
    "         batch_size=128\n",
    "    else:\n",
    "        #means adagrad\n",
    "        batch_size=512\n",
    "    \"\"\"\n",
    "    #start the training procees, show the training progress, display accuracy at each epochs, and finally plot\n",
    "    #the training accuracy vs validation accuracy\n",
    "    \"\"\"\n",
    "    begin_the_training()\n",
    "    \n",
    "    \n",
    "\n",
    "    \n",
    "    \n"
   ]
  },
  {
   "cell_type": "code",
   "execution_count": 11,
   "metadata": {},
   "outputs": [
    {
     "data": {
      "image/png": "[encoded data removed]",
      "text/plain": [
       "<Figure size 576x576 with 1 Axes>"
      ]
     },
     "metadata": {
      "needs_background": "light"
     },
     "output_type": "display_data"
    },
    {
     "data": {
      "image/png": "[encoded data removed]",
      "text/plain": [
       "<Figure size 576x576 with 1 Axes>"
      ]
     },
     "metadata": {
      "needs_background": "light"
     },
     "output_type": "display_data"
    }
   ],
   "source": [
    "\n",
    "    \n",
    "    visualize_using_pca(X_val,y_val)\n",
    "    visualize_using_tsne(X_val,y_val)\n",
    "    "
   ]
  },
  {
   "cell_type": "code",
   "execution_count": null,
   "metadata": {},
   "outputs": [],
   "source": []
  }
 ],
 "metadata": {
  "kernelspec": {
   "display_name": "Python 3",
   "language": "python",
   "name": "python3"
  },
  "language_info": {
   "codemirror_mode": {
    "name": "ipython",
    "version": 3
   },
   "file_extension": ".py",
   "mimetype": "text/x-python",
   "name": "python",
   "nbconvert_exporter": "python",
   "pygments_lexer": "ipython3",
   "version": "3.6.12"
  }
 },
 "nbformat": 4,
 "nbformat_minor": 4
}
